{
 "cells": [
  {
   "cell_type": "code",
   "execution_count": 759,
   "metadata": {},
   "outputs": [],
   "source": [
    "import pandas as pd"
   ]
  },
  {
   "cell_type": "code",
   "execution_count": 760,
   "metadata": {},
   "outputs": [],
   "source": [
    "# reading the data "
   ]
  },
  {
   "cell_type": "code",
   "execution_count": 761,
   "metadata": {},
   "outputs": [],
   "source": [
    "data = pd.read_csv(\"data_for_EDA.csv\")"
   ]
  },
  {
   "cell_type": "code",
   "execution_count": 762,
   "metadata": {},
   "outputs": [
    {
     "data": {
      "text/plain": [
       "(1547, 7)"
      ]
     },
     "execution_count": 762,
     "metadata": {},
     "output_type": "execute_result"
    }
   ],
   "source": [
    "data.shape"
   ]
  },
  {
   "cell_type": "code",
   "execution_count": 763,
   "metadata": {},
   "outputs": [],
   "source": [
    "# Earlier all description and summary was discarded"
   ]
  },
  {
   "cell_type": "code",
   "execution_count": 764,
   "metadata": {},
   "outputs": [],
   "source": [
    "# In this analysis, we will try to extract useful info from the text data"
   ]
  },
  {
   "cell_type": "code",
   "execution_count": 765,
   "metadata": {},
   "outputs": [
    {
     "data": {
      "text/plain": [
       "Analytics_Category_value    object\n",
       "Assignee_displayName        object\n",
       "Issue_Type_name             object\n",
       "Summary                     object\n",
       "SN_Case_Number              object\n",
       "u_category                  object\n",
       "description                 object\n",
       "dtype: object"
      ]
     },
     "execution_count": 765,
     "metadata": {},
     "output_type": "execute_result"
    }
   ],
   "source": [
    "# all columns are text data \n",
    "data.dtypes"
   ]
  },
  {
   "cell_type": "code",
   "execution_count": 766,
   "metadata": {},
   "outputs": [
    {
     "data": {
      "text/plain": [
       "Analytics_Category_value     45\n",
       "Assignee_displayName          0\n",
       "Issue_Type_name               0\n",
       "Summary                       0\n",
       "SN_Case_Number                0\n",
       "u_category                   97\n",
       "description                 105\n",
       "dtype: int64"
      ]
     },
     "execution_count": 766,
     "metadata": {},
     "output_type": "execute_result"
    }
   ],
   "source": [
    "data.isna().sum()"
   ]
  },
  {
   "cell_type": "code",
   "execution_count": 767,
   "metadata": {},
   "outputs": [],
   "source": [
    "# Unique counts can be seen in describe columns"
   ]
  },
  {
   "cell_type": "code",
   "execution_count": 768,
   "metadata": {},
   "outputs": [
    {
     "data": {
      "text/plain": [
       "0    Need data for the CTBRI divestiture. This will...\n",
       "1    Agilify needs an urgent estimate for effort of...\n",
       "2    Agilify needs an urgent estimate for effort of...\n",
       "3    In partnership with The Resource Group, the P2...\n",
       "4    Will you please get access for Scott Walters t...\n",
       "5    Hello,\\r\\n\\r\\nCurrently there is a stored proc...\n",
       "6    Hello,\\r\\n\\r\\nCurrently there is a stored proc...\n",
       "7    Good afternoon,\\r\\n\\r\\nCan you please grant ac...\n",
       "8    Good afternoon,\\r\\n\\r\\nCan you please grant ac...\n",
       "9    Good morning.\\r\\r\\nI am requesting changes to ...\n",
       "Name: description, dtype: object"
      ]
     },
     "execution_count": 768,
     "metadata": {},
     "output_type": "execute_result"
    }
   ],
   "source": [
    "data[\"description\"].head(10)"
   ]
  },
  {
   "cell_type": "code",
   "execution_count": 769,
   "metadata": {},
   "outputs": [
    {
     "data": {
      "text/plain": [
       "0              Create SSRS report with PPE Date prompt\n",
       "1    Requirements: Recycles Duplicates BP automatio...\n",
       "2    SQL: Recycles Duplicates BP automation product...\n",
       "3                          Cost of Ownership Scorecard\n",
       "4              Grant Access for Payroll Folder in SSRS\n",
       "5    Migrate LCE Sus Recall SQL objects to new db i...\n",
       "6    Migrate LCE Sus Recall stored proc from Automa...\n",
       "7            LCE SSRS Report Access in 010 for Agilify\n",
       "8    Grant 010 SSRS LCE Report Folder Access to Agi...\n",
       "9    Changes to Existing Report: MSC_Associates_Detail\n",
       "Name: Summary, dtype: object"
      ]
     },
     "execution_count": 769,
     "metadata": {},
     "output_type": "execute_result"
    }
   ],
   "source": [
    "data[\"Summary\"].head(10)"
   ]
  },
  {
   "cell_type": "code",
   "execution_count": 770,
   "metadata": {},
   "outputs": [],
   "source": [
    "# Checking for duplicate values"
   ]
  },
  {
   "cell_type": "code",
   "execution_count": 771,
   "metadata": {},
   "outputs": [
    {
     "data": {
      "text/plain": [
       "False    1546\n",
       "True        1\n",
       "dtype: int64"
      ]
     },
     "execution_count": 771,
     "metadata": {},
     "output_type": "execute_result"
    }
   ],
   "source": [
    "data.duplicated(keep = \"first\").value_counts()"
   ]
  },
  {
   "cell_type": "code",
   "execution_count": 772,
   "metadata": {},
   "outputs": [],
   "source": [
    "# Now we will analyze the summary and description "
   ]
  },
  {
   "cell_type": "code",
   "execution_count": 773,
   "metadata": {},
   "outputs": [],
   "source": [
    "data = data.drop_duplicates(keep =\"first\")"
   ]
  },
  {
   "cell_type": "code",
   "execution_count": 774,
   "metadata": {},
   "outputs": [
    {
     "data": {
      "text/plain": [
       "'Requirements: Add email notification to existing process'"
      ]
     },
     "execution_count": 774,
     "metadata": {},
     "output_type": "execute_result"
    }
   ],
   "source": [
    "data[\"Summary\"][1123]"
   ]
  },
  {
   "cell_type": "code",
   "execution_count": 775,
   "metadata": {},
   "outputs": [
    {
     "data": {
      "text/plain": [
       "nan"
      ]
     },
     "execution_count": 775,
     "metadata": {},
     "output_type": "execute_result"
    }
   ],
   "source": [
    "data[\"description\"][999]"
   ]
  },
  {
   "cell_type": "code",
   "execution_count": 776,
   "metadata": {},
   "outputs": [
    {
     "data": {
      "text/plain": [
       "Analytics_Category_value     45\n",
       "Assignee_displayName          0\n",
       "Issue_Type_name               0\n",
       "Summary                       0\n",
       "SN_Case_Number                0\n",
       "u_category                   97\n",
       "description                 105\n",
       "dtype: int64"
      ]
     },
     "execution_count": 776,
     "metadata": {},
     "output_type": "execute_result"
    }
   ],
   "source": [
    "data.isna().sum()"
   ]
  },
  {
   "cell_type": "code",
   "execution_count": 777,
   "metadata": {},
   "outputs": [
    {
     "data": {
      "text/plain": [
       "nan"
      ]
     },
     "execution_count": 777,
     "metadata": {},
     "output_type": "execute_result"
    }
   ],
   "source": [
    "(data[\"description\"][65])"
   ]
  },
  {
   "cell_type": "code",
   "execution_count": 778,
   "metadata": {},
   "outputs": [
    {
     "data": {
      "text/plain": [
       "Analytics_Category_value    2.91\n",
       "Assignee_displayName        0.00\n",
       "Issue_Type_name             0.00\n",
       "Summary                     0.00\n",
       "SN_Case_Number              0.00\n",
       "u_category                  6.27\n",
       "description                 6.79\n",
       "dtype: float64"
      ]
     },
     "execution_count": 778,
     "metadata": {},
     "output_type": "execute_result"
    }
   ],
   "source": [
    "(data.isna().sum()/data.shape[0]*100).round(2)"
   ]
  },
  {
   "cell_type": "code",
   "execution_count": 779,
   "metadata": {},
   "outputs": [
    {
     "data": {
      "text/plain": [
       "Index(['Analytics_Category_value', 'Assignee_displayName', 'Issue_Type_name',\n",
       "       'Summary', 'SN_Case_Number', 'u_category', 'description'],\n",
       "      dtype='object')"
      ]
     },
     "execution_count": 779,
     "metadata": {},
     "output_type": "execute_result"
    }
   ],
   "source": [
    "data.columns"
   ]
  },
  {
   "cell_type": "code",
   "execution_count": 780,
   "metadata": {},
   "outputs": [],
   "source": [
    "data = data.dropna(subset = [\"Analytics_Category_value\", \"u_category\", \"description\"])"
   ]
  },
  {
   "cell_type": "code",
   "execution_count": 781,
   "metadata": {},
   "outputs": [],
   "source": [
    "data = data.reset_index()"
   ]
  },
  {
   "cell_type": "code",
   "execution_count": 782,
   "metadata": {},
   "outputs": [],
   "source": [
    "data.drop([\"index\"], axis =1, inplace = True)"
   ]
  },
  {
   "cell_type": "code",
   "execution_count": 783,
   "metadata": {},
   "outputs": [],
   "source": [
    "data[\"Assignee_displayName\"].replace([\"Ancuta.Goia@ascension.org\", \"Deepa.Naidu@ascension.org\"], \n",
    "                                     [\"Ancuta Goia\", \"Deepa Naidu\"], inplace =True)"
   ]
  },
  {
   "cell_type": "code",
   "execution_count": 786,
   "metadata": {},
   "outputs": [
    {
     "data": {
      "text/plain": [
       "(1406, 7)"
      ]
     },
     "execution_count": 786,
     "metadata": {},
     "output_type": "execute_result"
    }
   ],
   "source": [
    "data.shape"
   ]
  },
  {
   "cell_type": "code",
   "execution_count": null,
   "metadata": {},
   "outputs": [],
   "source": []
  },
  {
   "cell_type": "code",
   "execution_count": 787,
   "metadata": {},
   "outputs": [],
   "source": [
    "# Performing text preprocessing in \"description\" and \"Summary\" columns"
   ]
  },
  {
   "cell_type": "code",
   "execution_count": null,
   "metadata": {},
   "outputs": [],
   "source": []
  },
  {
   "cell_type": "code",
   "execution_count": 788,
   "metadata": {},
   "outputs": [],
   "source": [
    "# Expand Contractions in data"
   ]
  },
  {
   "cell_type": "code",
   "execution_count": null,
   "metadata": {},
   "outputs": [],
   "source": []
  },
  {
   "cell_type": "code",
   "execution_count": null,
   "metadata": {},
   "outputs": [],
   "source": []
  },
  {
   "cell_type": "code",
   "execution_count": 718,
   "metadata": {},
   "outputs": [],
   "source": [
    "import re"
   ]
  },
  {
   "cell_type": "code",
   "execution_count": 719,
   "metadata": {},
   "outputs": [],
   "source": [
    "def remove_punctuation(text):\n",
    "    text = re.sub(r'(([\\w]+)\\@(\\w+\\.\\w+)(\\w+)?)',' ',text)      # Removes  email\n",
    "    text = re.sub(r'[^\\w\\s]',' ',text)                          # Removes punctuation\n",
    "    text = re.sub(r\"\\n|\\r\",' ', text)                           # Removes New Lines\n",
    "    text = re.sub(r'[^a-zA-Z]',' ',text)                        # Remove Numeric Values\n",
    "    return text"
   ]
  },
  {
   "cell_type": "code",
   "execution_count": 720,
   "metadata": {},
   "outputs": [],
   "source": [
    "def filter_string(text):\n",
    "    result = re.sub('(CONFIDENTIAL\\sCOMMUNICATION:[\\s\\S]*)', '', text)  # Removes Confidential Communication Para\n",
    "    result = re.sub('(CONFIDENTIALITY\\sNOTICE:[\\s\\S]*)', '', result)  # Removes Confidentiality Notice Para\n",
    "    result = re.sub(r'http\\S+', '', result)                         # Removes Hyperlinks\n",
    "    result = re.sub('[^A-Za-z]+', ' ', result)               # Removes Special Characters and selecting only alphabets\n",
    "    return result"
   ]
  },
  {
   "cell_type": "code",
   "execution_count": 721,
   "metadata": {},
   "outputs": [],
   "source": [
    "for x in range(0, data.shape[0]):\n",
    "    textdata = filter_string(str(data[\"description\"][x]))\n",
    "    textdata = remove_punctuation(textdata)\n",
    "    data.loc[x, (\"description\")] = textdata"
   ]
  },
  {
   "cell_type": "code",
   "execution_count": 722,
   "metadata": {},
   "outputs": [],
   "source": [
    "## usage of chained indexing resulted in warning"
   ]
  },
  {
   "cell_type": "code",
   "execution_count": 723,
   "metadata": {},
   "outputs": [],
   "source": [
    "# hence, loc was used instead"
   ]
  },
  {
   "cell_type": "code",
   "execution_count": 724,
   "metadata": {},
   "outputs": [
    {
     "data": {
      "text/plain": [
       "'Is there a way to see who has been given access to review these documents A list of the user s set up Thank you'"
      ]
     },
     "execution_count": 724,
     "metadata": {},
     "output_type": "execute_result"
    }
   ],
   "source": [
    "data[\"description\"][999]"
   ]
  },
  {
   "cell_type": "code",
   "execution_count": 725,
   "metadata": {},
   "outputs": [
    {
     "data": {
      "text/plain": [
       "736"
      ]
     },
     "execution_count": 725,
     "metadata": {},
     "output_type": "execute_result"
    }
   ],
   "source": [
    "data[\"description\"].value_counts().size"
   ]
  },
  {
   "cell_type": "code",
   "execution_count": 726,
   "metadata": {},
   "outputs": [
    {
     "data": {
      "text/plain": [
       "'Pega users are experiencing slowness with the Tableau report R in Radilo FA The slowness seems to be so severe that lines are no longer loading in Radilo or at least are taking a substantial amount of time Please add myself and Paige Horrigan to the watch list image cid bec b afa d d d e Kaylea Britton Pega Operations Lead ITIL Foundation Blue Prism Developer Certified Vincennes Road Indianapolis IN m e kaylea britton agilifyautomation com image cid image jpg D D D E cid image jpg D D D E cid image jpg D D D E cid image jpg D D D E '"
      ]
     },
     "execution_count": 726,
     "metadata": {},
     "output_type": "execute_result"
    }
   ],
   "source": [
    "data[\"description\"][662]"
   ]
  },
  {
   "cell_type": "code",
   "execution_count": 727,
   "metadata": {},
   "outputs": [],
   "source": [
    "for x in range(0, data.shape[0]):\n",
    "    textdata = filter_string(str(data[\"Summary\"][x]))\n",
    "    textdata = remove_punctuation(textdata)\n",
    "    data.loc[x, (\"Summary\")] = textdata"
   ]
  },
  {
   "cell_type": "code",
   "execution_count": 728,
   "metadata": {},
   "outputs": [],
   "source": [
    "# Now we will remove stop words"
   ]
  },
  {
   "cell_type": "code",
   "execution_count": 729,
   "metadata": {},
   "outputs": [
    {
     "name": "stderr",
     "output_type": "stream",
     "text": [
      "[nltk_data] Downloading package stopwords to\n",
      "[nltk_data]     C:\\Users\\Aditya\\AppData\\Roaming\\nltk_data...\n",
      "[nltk_data]   Package stopwords is already up-to-date!\n"
     ]
    },
    {
     "data": {
      "text/plain": [
       "True"
      ]
     },
     "execution_count": 729,
     "metadata": {},
     "output_type": "execute_result"
    }
   ],
   "source": [
    "import nltk\n",
    "nltk.download('stopwords')"
   ]
  },
  {
   "cell_type": "code",
   "execution_count": 730,
   "metadata": {},
   "outputs": [
    {
     "name": "stderr",
     "output_type": "stream",
     "text": [
      "[nltk_data] Downloading package punkt to\n",
      "[nltk_data]     C:\\Users\\Aditya\\AppData\\Roaming\\nltk_data...\n",
      "[nltk_data]   Package punkt is already up-to-date!\n"
     ]
    },
    {
     "data": {
      "text/plain": [
       "True"
      ]
     },
     "execution_count": 730,
     "metadata": {},
     "output_type": "execute_result"
    }
   ],
   "source": [
    "nltk.download('punkt')"
   ]
  },
  {
   "cell_type": "code",
   "execution_count": 731,
   "metadata": {},
   "outputs": [],
   "source": [
    "from nltk.corpus import stopwords\n",
    "from nltk.tokenize import word_tokenize"
   ]
  },
  {
   "cell_type": "code",
   "execution_count": 732,
   "metadata": {},
   "outputs": [],
   "source": [
    "stop_words = set(stopwords.words('english'))"
   ]
  },
  {
   "cell_type": "code",
   "execution_count": 733,
   "metadata": {},
   "outputs": [],
   "source": [
    "for x in range(0, data.shape[0]):\n",
    "    tokens = word_tokenize(str(data[\"description\"][x]))\n",
    "    resultlist = [i for i in tokens if not i in stop_words]\n",
    "    result = \" \".join(resultlist)\n",
    "    data.loc[x, (\"description\")] = result"
   ]
  },
  {
   "cell_type": "code",
   "execution_count": 734,
   "metadata": {},
   "outputs": [],
   "source": [
    "for x in range(0, data.shape[0]):\n",
    "    tokens = word_tokenize(str(data[\"Summary\"][x]))\n",
    "    resultlist = [i for i in tokens if not i in stop_words]\n",
    "    result = \" \".join(resultlist)\n",
    "    data.loc[x, (\"Summary\")] = result"
   ]
  },
  {
   "cell_type": "code",
   "execution_count": 735,
   "metadata": {},
   "outputs": [
    {
     "data": {
      "text/plain": [
       "'Hello Analytics Team The existing Associate Listing report created MSC accounting team part project PMO requires modification The report link sent recipients listed Ryan Downey MSC Accounting Director requested following modification Currently user clicks report link sent email looks like SQL executed retrieve current information file associates listed report Even though report created monthly example associate changed business units last month Ryan would historical information previous business unit previous info associated employee associate reported six months ago Is possible change report retain historical information month report created Can filters added allow user select time period want see historical point time snap shot data versus current data system Please contact Doug Scherer clarify requirements ask questions Thank Doug Subject AssociateListing executed PM Report project PM The report accessible following address cid image png D C D DD Douglas Scherer Senior Business Analyst CSPO CSM Vincennes Circle Indianapolis IN Office Douglas Scherer Ascension org mailto Douglas Scherer Ascension org Rooted mission Ascension serve clients deliver value enable new possibilities'"
      ]
     },
     "execution_count": 735,
     "metadata": {},
     "output_type": "execute_result"
    }
   ],
   "source": [
    "data[\"description\"][1134]"
   ]
  },
  {
   "cell_type": "code",
   "execution_count": 736,
   "metadata": {},
   "outputs": [
    {
     "data": {
      "text/plain": [
       "'Pega users experiencing slowness Tableau report R Radilo FA The slowness seems severe lines longer loading Radilo least taking substantial amount time Please add Paige Horrigan watch list image cid bec b afa e Kaylea Britton Pega Operations Lead ITIL Foundation Blue Prism Developer Certified Vincennes Road Indianapolis IN e kaylea britton agilifyautomation com image cid image jpg D D D E cid image jpg D D D E cid image jpg D D D E cid image jpg D D D E'"
      ]
     },
     "execution_count": 736,
     "metadata": {},
     "output_type": "execute_result"
    }
   ],
   "source": [
    "data[\"description\"][662]"
   ]
  },
  {
   "cell_type": "code",
   "execution_count": 737,
   "metadata": {},
   "outputs": [],
   "source": [
    "list1 = [\"aa\" , \"bb\" , \"cc\", \"dd\"]"
   ]
  },
  {
   "cell_type": "code",
   "execution_count": 738,
   "metadata": {},
   "outputs": [],
   "source": [
    "str1 = \" \".join(list1)"
   ]
  },
  {
   "cell_type": "code",
   "execution_count": 739,
   "metadata": {},
   "outputs": [
    {
     "data": {
      "text/plain": [
       "'aa bb cc dd'"
      ]
     },
     "execution_count": 739,
     "metadata": {},
     "output_type": "execute_result"
    }
   ],
   "source": [
    "str1"
   ]
  },
  {
   "cell_type": "code",
   "execution_count": 740,
   "metadata": {},
   "outputs": [],
   "source": [
    "## Applying Stemming"
   ]
  },
  {
   "cell_type": "code",
   "execution_count": 741,
   "metadata": {},
   "outputs": [],
   "source": [
    "from nltk.stem import PorterStemmer"
   ]
  },
  {
   "cell_type": "code",
   "execution_count": 742,
   "metadata": {},
   "outputs": [],
   "source": [
    "stemmer = PorterStemmer()"
   ]
  },
  {
   "cell_type": "code",
   "execution_count": 743,
   "metadata": {},
   "outputs": [],
   "source": [
    "for x in range(0, data.shape[0]):\n",
    "    tokens = word_tokenize(str(data[\"description\"][x]))\n",
    "    result = \"\"\n",
    "    for word in tokens:\n",
    "        result += stemmer.stem(word) + \" \"\n",
    "    data.loc[x, (\"description\")] = result"
   ]
  },
  {
   "cell_type": "code",
   "execution_count": 744,
   "metadata": {},
   "outputs": [],
   "source": [
    "for x in range(0, data.shape[0]):\n",
    "    tokens = word_tokenize(str(data[\"Summary\"][x]))\n",
    "    result = \"\"\n",
    "    for word in tokens:\n",
    "        result += stemmer.stem(word) +\" \"\n",
    "    data.loc[x, (\"Summary\")] = result"
   ]
  },
  {
   "cell_type": "code",
   "execution_count": null,
   "metadata": {},
   "outputs": [],
   "source": []
  },
  {
   "cell_type": "code",
   "execution_count": 745,
   "metadata": {},
   "outputs": [
    {
     "data": {
      "text/plain": [
       "'agilifi need urgent estim effort analyt work queri modif account payabl recycl autom thank paig cid bec b afa e paig horrigan georg deliveri client engag manag vincenn road indianapoli indiana e paig horrigan agilifyautom com cid imag jpg D D D E '"
      ]
     },
     "execution_count": 745,
     "metadata": {},
     "output_type": "execute_result"
    }
   ],
   "source": [
    "data[\"description\"][1]"
   ]
  },
  {
   "cell_type": "code",
   "execution_count": 746,
   "metadata": {},
   "outputs": [
    {
     "data": {
      "text/plain": [
       "'pega user experienc slow tableau report R radilo FA the slow seem sever line longer load radilo least take substanti amount time pleas add paig horrigan watch list imag cid bec b afa e kaylea britton pega oper lead itil foundat blue prism develop certifi vincenn road indianapoli IN e kaylea britton agilifyautom com imag cid imag jpg D D D E cid imag jpg D D D E cid imag jpg D D D E cid imag jpg D D D E '"
      ]
     },
     "execution_count": 746,
     "metadata": {},
     "output_type": "execute_result"
    }
   ],
   "source": [
    "data[\"description\"][662]"
   ]
  },
  {
   "cell_type": "code",
   "execution_count": 747,
   "metadata": {},
   "outputs": [
    {
     "data": {
      "text/plain": [
       "'hello analyt team the exist associ list report creat msc account team part project pmo requir modif the report link sent recipi list ryan downey msc account director request follow modif current user click report link sent email look like sql execut retriev current inform file associ list report even though report creat monthli exampl associ chang busi unit last month ryan would histor inform previou busi unit previou info associ employe associ report six month ago Is possibl chang report retain histor inform month report creat can filter ad allow user select time period want see histor point time snap shot data versu current data system pleas contact doug scherer clarifi requir ask question thank doug subject associatelist execut PM report project PM the report access follow address cid imag png D C D DD dougla scherer senior busi analyst cspo csm vincenn circl indianapoli IN offic dougla scherer ascens org mailto dougla scherer ascens org root mission ascens serv client deliv valu enabl new possibl '"
      ]
     },
     "execution_count": 747,
     "metadata": {},
     "output_type": "execute_result"
    }
   ],
   "source": [
    "data[\"description\"][1134]"
   ]
  },
  {
   "cell_type": "code",
   "execution_count": 748,
   "metadata": {},
   "outputs": [],
   "source": [
    "# Stemming is working successfully"
   ]
  },
  {
   "cell_type": "code",
   "execution_count": null,
   "metadata": {},
   "outputs": [],
   "source": []
  },
  {
   "cell_type": "code",
   "execution_count": 749,
   "metadata": {},
   "outputs": [],
   "source": [
    "# Lemmatization using nltk"
   ]
  },
  {
   "cell_type": "code",
   "execution_count": 750,
   "metadata": {},
   "outputs": [],
   "source": [
    "from nltk.stem import WordNetLemmatizer\n"
   ]
  },
  {
   "cell_type": "code",
   "execution_count": 751,
   "metadata": {},
   "outputs": [],
   "source": [
    "lemmatizer=WordNetLemmatizer()"
   ]
  },
  {
   "cell_type": "code",
   "execution_count": 752,
   "metadata": {},
   "outputs": [
    {
     "name": "stderr",
     "output_type": "stream",
     "text": [
      "[nltk_data] Downloading package wordnet to\n",
      "[nltk_data]     C:\\Users\\Aditya\\AppData\\Roaming\\nltk_data...\n",
      "[nltk_data]   Package wordnet is already up-to-date!\n"
     ]
    },
    {
     "data": {
      "text/plain": [
       "True"
      ]
     },
     "execution_count": 752,
     "metadata": {},
     "output_type": "execute_result"
    }
   ],
   "source": [
    "nltk.download('wordnet')"
   ]
  },
  {
   "cell_type": "code",
   "execution_count": null,
   "metadata": {},
   "outputs": [],
   "source": []
  },
  {
   "cell_type": "code",
   "execution_count": 753,
   "metadata": {},
   "outputs": [],
   "source": [
    "# Performing lemmatization on description and summary columns"
   ]
  },
  {
   "cell_type": "code",
   "execution_count": 754,
   "metadata": {},
   "outputs": [],
   "source": [
    "for x in range(0, data.shape[0]):\n",
    "    tokens = word_tokenize(str(data[\"description\"][x]))\n",
    "    result = \"\"\n",
    "    for word in tokens:\n",
    "        result += lemmatizer.lemmatize(word) + \" \"\n",
    "    data.loc[x, (\"description\")] = result"
   ]
  },
  {
   "cell_type": "code",
   "execution_count": 755,
   "metadata": {},
   "outputs": [],
   "source": [
    "for x in range(0, data.shape[0]):\n",
    "    tokens = word_tokenize(str(data[\"Summary\"][x]))\n",
    "    result = \"\"\n",
    "    for word in tokens:\n",
    "        result += lemmatizer.lemmatize(word) + \" \"\n",
    "    data.loc[x, (\"Summary\")] = result"
   ]
  },
  {
   "cell_type": "code",
   "execution_count": null,
   "metadata": {},
   "outputs": [],
   "source": []
  },
  {
   "cell_type": "code",
   "execution_count": 756,
   "metadata": {},
   "outputs": [
    {
     "data": {
      "text/plain": [
       "'pega user experienc slow tableau report R radilo FA the slow seem sever line longer load radilo least take substanti amount time plea add paig horrigan watch list imag cid bec b afa e kaylea britton pega oper lead itil foundat blue prism develop certifi vincenn road indianapoli IN e kaylea britton agilifyautom com imag cid imag jpg D D D E cid imag jpg D D D E cid imag jpg D D D E cid imag jpg D D D E '"
      ]
     },
     "execution_count": 756,
     "metadata": {},
     "output_type": "execute_result"
    }
   ],
   "source": [
    "data[\"description\"][662]"
   ]
  },
  {
   "cell_type": "code",
   "execution_count": 757,
   "metadata": {},
   "outputs": [
    {
     "data": {
      "text/plain": [
       "'hello analyt team the exist associ list report creat msc account team part project pmo requir modif the report link sent recipi list ryan downey msc account director request follow modif current user click report link sent email look like sql execut retriev current inform file associ list report even though report creat monthli exampl associ chang busi unit last month ryan would histor inform previou busi unit previou info associ employe associ report six month ago Is possibl chang report retain histor inform month report creat can filter ad allow user select time period want see histor point time snap shot data versu current data system plea contact doug scherer clarifi requir ask question thank doug subject associatelist execut PM report project PM the report access follow address cid imag png D C D DD dougla scherer senior busi analyst cspo csm vincenn circl indianapoli IN offic dougla scherer ascens org mailto dougla scherer ascens org root mission ascens serv client deliv valu enabl new possibl '"
      ]
     },
     "execution_count": 757,
     "metadata": {},
     "output_type": "execute_result"
    }
   ],
   "source": [
    "data[\"description\"][1134]"
   ]
  },
  {
   "cell_type": "code",
   "execution_count": null,
   "metadata": {},
   "outputs": [],
   "source": []
  },
  {
   "cell_type": "code",
   "execution_count": null,
   "metadata": {},
   "outputs": [],
   "source": []
  }
 ],
 "metadata": {
  "kernelspec": {
   "display_name": "Python 3",
   "language": "python",
   "name": "python3"
  },
  "language_info": {
   "codemirror_mode": {
    "name": "ipython",
    "version": 3
   },
   "file_extension": ".py",
   "mimetype": "text/x-python",
   "name": "python",
   "nbconvert_exporter": "python",
   "pygments_lexer": "ipython3",
   "version": "3.7.4"
  }
 },
 "nbformat": 4,
 "nbformat_minor": 2
}
